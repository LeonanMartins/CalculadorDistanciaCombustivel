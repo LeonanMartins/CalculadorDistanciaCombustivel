{
 "cells": [
  {
   "cell_type": "markdown",
   "metadata": {},
   "source": [
    "Calculador de Combustível por Viagens"
   ]
  },
  {
   "cell_type": "code",
   "execution_count": null,
   "metadata": {},
   "outputs": [],
   "source": [
    "ValCom = float(input(\"Qual o valor do combustível por litro ?: $\"))"
   ]
  },
  {
   "cell_type": "code",
   "execution_count": null,
   "metadata": {},
   "outputs": [],
   "source": [
    "KmPLt = float(input(\"Quantos Kilomêtros o seu carro faz por litro ?: \"))"
   ]
  },
  {
   "cell_type": "code",
   "execution_count": null,
   "metadata": {},
   "outputs": [],
   "source": [
    "Tempo = float(input(\"Quanto tempo em minutos durou a sua viagem ?: \"))\n",
    "TempoHora = Tempo // 60\n",
    "TempoMin = Tempo % 60"
   ]
  },
  {
   "cell_type": "code",
   "execution_count": null,
   "metadata": {},
   "outputs": [],
   "source": [
    "Vel = float(input(\"Qual a velocidade média em KM/H que esteve durante a viajem ?: \"))"
   ]
  },
  {
   "cell_type": "code",
   "execution_count": null,
   "metadata": {},
   "outputs": [],
   "source": [
    "Distancia = TempoHora * Vel"
   ]
  },
  {
   "cell_type": "code",
   "execution_count": null,
   "metadata": {},
   "outputs": [],
   "source": [
    "LitrosUsados = Distancia / KmPLt"
   ]
  },
  {
   "cell_type": "code",
   "execution_count": null,
   "metadata": {},
   "outputs": [],
   "source": [
    "TempoResult = (f\"{round(TempoHora)}hr e {round(TempoMin)}min\")"
   ]
  },
  {
   "cell_type": "code",
   "execution_count": null,
   "metadata": {},
   "outputs": [],
   "source": [
    "GastDin = LitrosUsados * ValCom\n",
    "print(f\" Você percorreu uma distancia de {round(Distancia)}Km\\n Em um tempo de {TempoResult}\\n A quantidade de combustível usado, foi de {round(LitrosUsados,1)} Litros\\n E o valor dos gastos foi de ${round(GastDin,2)}\")"
   ]
  }
 ],
 "metadata": {
  "kernelspec": {
   "display_name": "base",
   "language": "python",
   "name": "python3"
  },
  "language_info": {
   "codemirror_mode": {
    "name": "ipython",
    "version": 3
   },
   "file_extension": ".py",
   "mimetype": "text/x-python",
   "name": "python",
   "nbconvert_exporter": "python",
   "pygments_lexer": "ipython3",
   "version": "3.11.5"
  }
 },
 "nbformat": 4,
 "nbformat_minor": 2
}
